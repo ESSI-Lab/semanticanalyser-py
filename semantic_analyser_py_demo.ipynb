{
 "cells": [
  {
   "cell_type": "markdown",
   "metadata": {
    "id": "UJh_I5EYQJ8_"
   },
   "source": [
    "# Demo for the package \"semanticanalyser-py\""
   ]
  },
  {
   "cell_type": "markdown",
   "metadata": {
    "id": "Zt5ObMeQrLvm"
   },
   "source": [
    "This notebook demonstrates the use of the semanticanalyser-py library. It installs the library, then creates interactive widgets to allow the user to input a term and select a category. When the 'analyse' button is clicked, the code uses the SemanticAnalyser to find semantic matches for the entered term within the selected category's vocabularies and displays the results."
   ]
  },
  {
   "cell_type": "code",
   "execution_count": null,
   "metadata": {
    "colab": {
     "base_uri": "https://localhost:8080/"
    },
    "id": "apXLdIWVAAjA",
    "jupyter": {
     "is_executing": true
    },
    "outputId": "7eb001c2-b366-414a-e6d3-50bbf3c0dfcd"
   },
   "outputs": [],
   "source": [
    "!pip install --upgrade semanticanalyser-py\n",
    "!pip show semanticanalyser-py"
   ]
  },
  {
   "cell_type": "code",
   "execution_count": null,
   "metadata": {
    "colab": {
     "base_uri": "https://localhost:8080/",
     "height": 171,
     "referenced_widgets": [
      "3cf92c22b50441eb83a8915b98f1c6da",
      "a73f2bf724654458a528e18b7b87e865",
      "0e1a63c11ccc47aa9600e5a28da8c6c9",
      "7c15f27ec7494ba0829532c4dac60d0c",
      "05ebd112b11e42c6a9416b6d0946f597",
      "b497e648b21443cdb5de69314fed1b5f",
      "564171e555654dbc954bc675f490e29e",
      "a44fa65e7a5445e6bfba3f8afe759744",
      "5039bf4e56ab4e4db7f5893c9e9cda8f",
      "79722329502441a1a026dc10f4f9a46f",
      "fe162b9f5cd54cc5b615a690c18112b9",
      "8feb18620ee24a46bab6995757c5ad0a",
      "f2024f3b8ef640e6b4940b7365a1f32d",
      "42a1ee53ca7c49d185c21430f5a3d962",
      "c8b2e6e9052b4a47a45d47666bb07c8c",
      "44a75d481ddb46f29d9ed8c0aeb5c7a4",
      "baff2e972fb6428daf0d8c3df9759ef9"
     ]
    },
    "id": "2N8B87uUcoNQ",
    "jupyter": {
     "is_executing": true
    },
    "outputId": "0befb37a-a4c0-49fd-e2de-73094483fcaa"
   },
   "outputs": [],
   "source": [
    "from semanticanalyser.analyser import *\n",
    "import ipywidgets as widgets\n",
    "from IPython.display import display\n",
    "\n",
    "\n",
    "analyser = SemanticAnalyser()\n",
    "match_types = analyser.getMatchTypes()\n",
    "match_properties = analyser.getMatchProperties()\n",
    "categories_data = analyser.get_categories()\n",
    "categories = ['All'] + [cat['name'] for cat in categories_data] # Add 'All' option and extract names\n",
    "\n",
    "\n",
    "\n",
    "\n",
    "# Create a text input widget\n",
    "term_input = widgets.Text(\n",
    "    value='',\n",
    "    placeholder='Enter term here',\n",
    "    description='Term:',\n",
    "    disabled=False\n",
    ")\n",
    "\n",
    "# Create dropdown for categories\n",
    "category_dropdown = widgets.Dropdown(\n",
    "    options=categories,\n",
    "    value='All',\n",
    "    description='Category:',\n",
    "    disabled=False,\n",
    ")\n",
    "\n",
    "# Create dropdown for match types\n",
    "match_type_dropdown = widgets.Dropdown(\n",
    "    options=['All'] + [str(mt) for mt in match_types],\n",
    "    value='All',\n",
    "    description='Match Type:',\n",
    "    disabled=False,\n",
    ")\n",
    "\n",
    "# Create dropdown for match properties\n",
    "match_property_dropdown = widgets.Dropdown(\n",
    "    options=['All'] + [str(mp) for mp in match_properties],\n",
    "    value='All',\n",
    "    description='Match Property:',\n",
    "    disabled=False,\n",
    ")\n",
    "\n",
    "\n",
    "\n",
    "\n",
    "# Create a button widget\n",
    "analyse_button = widgets.Button(\n",
    "    description='Analyse',\n",
    "    disabled=False,\n",
    "    button_style='', # 'success', 'info', 'warning', 'danger' or ''\n",
    "    tooltip='Click to analyse the term',\n",
    "    icon='search'\n",
    ")\n",
    "\n",
    "# Output widget to display the analysis results\n",
    "output_widget = widgets.Output()\n",
    "\n",
    "# Display the widgets\n",
    "display(term_input, category_dropdown, match_type_dropdown, match_property_dropdown, analyse_button, output_widget)\n",
    "\n",
    "\n",
    "\n",
    "\n",
    "# Define the function to handle button click\n",
    "def on_analyse_button_clicked(b):\n",
    "    with output_widget:\n",
    "        output_widget.clear_output()\n",
    "        term = term_input.value\n",
    "        selected_category_name = category_dropdown.value\n",
    "        selected_match_type_str = match_type_dropdown.value\n",
    "        selected_match_property_str = match_property_dropdown.value\n",
    "\n",
    "        if term:\n",
    "            print(f\"Analyzing term: {term}\")\n",
    "            print(f\"Selected Category: {selected_category_name}\")\n",
    "            print(f\"Selected Match Type: {selected_match_type_str}\")\n",
    "            print(f\"Selected Match Property: {selected_match_property_str}\")\n",
    "\n",
    "            match_types_for_analysis = match_types if selected_match_type_str == 'All' else [mt for mt in match_types if str(mt) == selected_match_type_str]\n",
    "            match_properties_for_analysis = match_properties if selected_match_property_str == 'All' else [mp for mp in match_properties if str(mp) == selected_match_property_str]\n",
    "\n",
    "            if selected_category_name == 'All':\n",
    "                 response = analyser.analyseTermsWithoutCategory([term], match_types_for_analysis, match_properties_for_analysis)\n",
    "            else:\n",
    "                response = analyser.analyseTerms([term], match_types_for_analysis, match_properties_for_analysis, selected_category_name)\n",
    "\n",
    "            print()\n",
    "            print(response.to_string())\n",
    "\n",
    "# Link the button click to the function\n",
    "analyse_button.on_click(on_analyse_button_clicked)"
   ]
  },
  {
   "cell_type": "markdown",
   "metadata": {
    "id": "IS6EdoHutKGP"
   },
   "source": [
    "After clicking the 'analyse' button, the output widget will display the results of the semantic analysis. For each match found, you will see details such as:\n",
    "\n",
    "*   The Matching Term: the term from the vocabulary that matches your input\n",
    "*   The Match Property and Match Type: indicating the nature of the match\n",
    "*   The Category: if the term is a parameter, instrument, platform or theme\n",
    "*   The Term Code: a unique identifier for the matched term\n",
    "*   The Vocabulary the term belongs to\n",
    "*   The Concept URI: a persistent identifier for the concept\n",
    "\n",
    "If no matches are found for the given term and category, a message indicating this will be displayed.\n",
    "\n"
   ]
  }
 ],
 "metadata": {
  "colab": {
   "provenance": []
  },
  "kernelspec": {
   "display_name": "Python 3",
   "name": "python3"
  },
  "language_info": {
   "name": "python"
  }
 },
 "nbformat": 4,
 "nbformat_minor": 0
}
