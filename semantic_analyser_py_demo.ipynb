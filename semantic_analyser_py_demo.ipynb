{
  "cells": [
    {
      "cell_type": "markdown",
      "metadata": {
        "id": "UJh_I5EYQJ8_"
      },
      "source": [
        "# Demo for the package \"semanticanalyser-py\""
      ]
    },
    {
      "cell_type": "markdown",
      "source": [
        "This notebook demonstrates the use of the semanticanalyser-py library. It installs the library, then creates interactive widgets to allow the user to input a term and select a category. When the 'analyse' button is clicked, the code uses the SemanticAnalyser to find semantic matches for the entered term within the selected category's vocabularies and displays the results."
      ],
      "metadata": {
        "id": "Zt5ObMeQrLvm"
      }
    },
    {
      "cell_type": "code",
      "metadata": {
        "id": "apXLdIWVAAjA",
        "jupyter": {
          "is_executing": true
        }
      },
      "source": [
        "!pip install --upgrade semanticanalyser-py\n",
        "!pip show semanticanalyser-py"
      ],
      "outputs": [],
      "execution_count": null
    },
    {
      "cell_type": "code",
      "metadata": {
        "id": "2N8B87uUcoNQ",
        "jupyter": {
          "is_executing": true
        }
      },
      "source": [
        "from semanticanalyser.analyser import *\n",
        "from ipywidgets import Dropdown, Button, VBox, Output, Text\n",
        "\n",
        "analyser = SemanticAnalyser()\n",
        "match_types = analyser.getMatchTypes()\n",
        "match_properties = analyser.getMatchProperties()\n",
        "match_categories = analyser.get_categories()\n",
        "\n",
        "categories_list = [category['name'] for category in match_categories]\n",
        "\n",
        "term_input = Text(\n",
        "    description='Enter Term:',\n",
        "    placeholder='Type here...'\n",
        ")\n",
        "\n",
        "category_dropdown = Dropdown(\n",
        "    options=categories_list,\n",
        "    description='Select Category:',\n",
        ")\n",
        "\n",
        "analyse_button = Button(description=\"analyse\")\n",
        "\n",
        "\n",
        "output_widget = Output()\n",
        "\n",
        "def display_vocabularies(category):\n",
        "  \"\"\"Retrieves and displays vocabularies for a given category.\"\"\"\n",
        "  print(f\"Fetching vocabularies for category: {category}\")\n",
        "  vocabularies = analyser.get_vocabularies(category)\n",
        "  if vocabularies:\n",
        "    print(\"Vocabularies:\")\n",
        "    for vocab in vocabularies:\n",
        "      print(vocab)\n",
        "  else:\n",
        "    print(f\"No vocabularies found for category: {category}\")\n",
        "\n",
        "def analyse_term_with_category(term, category):\n",
        "    \"\"\"analyses a single term using the selected category's vocabularies and displays results.\"\"\"\n",
        "    print(f\"analysing term: '{term}' in category: '{category}'\")\n",
        "    analysis_results = analyser.analyseTerms([term], match_types, match_properties)\n",
        "\n",
        "    if analysis_results:\n",
        "        print(\"\\nAnalysis Results:\")\n",
        "        matches = analysis_results.get_matches()\n",
        "        if matches:\n",
        "            for match in matches:\n",
        "                print(f\"  Matching Term: {match.getMatchingTerm()}\")\n",
        "                print(f\"  Match Property: {match.getMatchProperty()}\")\n",
        "                print(f\"  Match Type: {match.getMatchType()}\")\n",
        "                print(f\"  Term Code: {match.getTermCode()}\")\n",
        "                print(f\"  Vocabulary: {match.getVocabulary()}\")\n",
        "                print(f\"  Concept URI: {match.getConceptURI()}\")\n",
        "                print(\"-\" * 20)\n",
        "        else:\n",
        "            print(\"  No matches found for the given term and category.\")\n",
        "    else:\n",
        "        print(\"Analysis failed.\")\n",
        "\n",
        "\n",
        "def on_button_click(b):\n",
        "    \"\"\"Handles button click event to analyse term.\"\"\"\n",
        "    with output_widget:\n",
        "        output_widget.clear_output()\n",
        "        analyse_term_with_category(term_input.value, category_dropdown.value)\n",
        "\n",
        "\n",
        "analyse_button.on_click(on_button_click)\n",
        "\n",
        "display(term_input)\n",
        "display(category_dropdown)\n",
        "display(analyse_button)\n",
        "display(output_widget)"
      ],
      "outputs": [],
      "execution_count": null
    }
  ],
  "metadata": {
    "colab": {
      "provenance": []
    },
    "kernelspec": {
      "display_name": "Python 3",
      "name": "python3"
    },
    "language_info": {
      "name": "python"
    }
  },
  "nbformat": 4,
  "nbformat_minor": 0
}