{
  "cells": [
    {
      "cell_type": "markdown",
      "metadata": {
        "id": "UJh_I5EYQJ8_"
      },
      "source": [
        "# Demo for the package \"semanticanalyser-py\""
      ]
    },
    {
      "cell_type": "markdown",
      "source": [
        "This notebook demonstrates the use of the semanticanalyser-py library. It installs the library, then creates interactive widgets to allow the user to input a term and select a category. When the 'analyse' button is clicked, the code uses the SemanticAnalyser to find semantic matches for the entered term within the selected category's vocabularies and displays the results."
      ],
      "metadata": {
        "id": "Zt5ObMeQrLvm"
      }
    },
    {
      "cell_type": "code",
      "metadata": {
        "id": "apXLdIWVAAjA",
        "jupyter": {
          "is_executing": true
        }
      },
      "source": [
        "!pip install --upgrade semanticanalyser-py\n",
        "!pip show semanticanalyser-py"
      ],
      "outputs": [],
      "execution_count": null
    },
    {
      "cell_type": "code",
      "metadata": {
        "id": "2N8B87uUcoNQ",
        "jupyter": {
          "is_executing": true
        }
      },
      "source": [
        "from semanticanalyser.analyser import *\n",
        "import ipywidgets as widgets\n",
        "from IPython.display import display\n",
        "\n",
        "\n",
        "analyser = SemanticAnalyser()\n",
        "match_types = analyser.getMatchTypes()\n",
        "match_properties = analyser.getMatchProperties()\n",
        "# Create a text input widget\n",
        "term_input = widgets.Text(\n",
        "    value='',\n",
        "    placeholder='Enter term here',\n",
        "    description='Term:',\n",
        "    disabled=False\n",
        ")\n",
        "\n",
        "# Create a button widget\n",
        "analyse_button = widgets.Button(\n",
        "    description='Analyse',\n",
        "    disabled=False,\n",
        "    button_style='', # 'success', 'info', 'warning', 'danger' or ''\n",
        "    tooltip='Click to analyse the term',\n",
        "    icon='search'\n",
        ")\n",
        "\n",
        "# Output widget to display the analysis results\n",
        "output_widget = widgets.Output()\n",
        "\n",
        "# Display the widgets\n",
        "display(term_input, analyse_button, output_widget)\n",
        "\n",
        "# Define the function to handle button click\n",
        "def on_analyse_button_clicked(b):\n",
        "    with output_widget:\n",
        "        output_widget.clear_output()\n",
        "        term = term_input.value\n",
        "        if term:\n",
        "            print(f\"Analyzing term: {term}\")\n",
        "\n",
        "            response = analyser.analyseTermsWithoutCategory([term], match_types, match_properties)\n",
        "            print()\n",
        "            print(response.to_string())\n",
        "        else:\n",
        "            print(\"Please enter a term to analyse.\")\n",
        "\n",
        "# Link the button click to the function\n",
        "analyse_button.on_click(on_analyse_button_clicked)"
      ],
      "outputs": [],
      "execution_count": null
    },
    {
      "cell_type": "markdown",
      "source": [
        "After clicking the 'analyse' button, the output widget will display the results of the semantic analysis. For each match found, you will see details such as:\n",
        "\n",
        "*   The Matching Term: the term from the vocabulary that matches your input\n",
        "*   The Match Property and Match Type: indicating the nature of the match\n",
        "*   The Category: if the term is a parameter, instrument, platform or theme\n",
        "*   The Term Code: a unique identifier for the matched term\n",
        "*   The Vocabulary the term belongs to\n",
        "*   The Concept URI: a persistent identifier for the concept\n",
        "\n",
        "If no matches are found for the given term and category, a message indicating this will be displayed.\n",
        "\n"
      ],
      "metadata": {
        "id": "IS6EdoHutKGP"
      }
    }
  ],
  "metadata": {
    "colab": {
      "provenance": []
    },
    "kernelspec": {
      "display_name": "Python 3",
      "name": "python3"
    },
    "language_info": {
      "name": "python"
    }
  },
  "nbformat": 4,
  "nbformat_minor": 0
}