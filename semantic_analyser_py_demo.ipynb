{
  "cells": [
    {
      "cell_type": "markdown",
      "metadata": {
        "id": "UJh_I5EYQJ8_"
      },
      "source": [
        "# Demo for the package \"semanticanalyser-py\""
      ]
    },
    {
      "cell_type": "markdown",
      "source": [
        "This notebook demonstrates the use of the semanticanalyser-py library. It installs the library, then creates interactive widgets to allow the user to input a term and select a category. When the 'analyse' button is clicked, the code uses the SemanticAnalyser to find semantic matches for the entered term within the selected category's vocabularies and displays the results."
      ],
      "metadata": {
        "id": "Zt5ObMeQrLvm"
      }
    },
    {
      "cell_type": "code",
      "metadata": {
        "id": "apXLdIWVAAjA",
        "jupyter": {
          "is_executing": true
        },
        "colab": {
          "base_uri": "https://localhost:8080/"
        },
        "outputId": "7eb001c2-b366-414a-e6d3-50bbf3c0dfcd"
      },
      "source": [
        "!pip install --upgrade semanticanalyser-py\n",
        "!pip show semanticanalyser-py"
      ],
      "outputs": [
        {
          "output_type": "stream",
          "name": "stdout",
          "text": [
            "Requirement already satisfied: semanticanalyser-py in /usr/local/lib/python3.12/dist-packages (0.1.6)\n",
            "Requirement already satisfied: requests>=2.25.0 in /usr/local/lib/python3.12/dist-packages (from semanticanalyser-py) (2.32.4)\n",
            "Requirement already satisfied: charset_normalizer<4,>=2 in /usr/local/lib/python3.12/dist-packages (from requests>=2.25.0->semanticanalyser-py) (3.4.3)\n",
            "Requirement already satisfied: idna<4,>=2.5 in /usr/local/lib/python3.12/dist-packages (from requests>=2.25.0->semanticanalyser-py) (3.10)\n",
            "Requirement already satisfied: urllib3<3,>=1.21.1 in /usr/local/lib/python3.12/dist-packages (from requests>=2.25.0->semanticanalyser-py) (2.5.0)\n",
            "Requirement already satisfied: certifi>=2017.4.17 in /usr/local/lib/python3.12/dist-packages (from requests>=2.25.0->semanticanalyser-py) (2025.8.3)\n",
            "Name: semanticanalyser-py\n",
            "Version: 0.1.6\n",
            "Summary: A Python binding for the Semantic Analyser service maintained by BODC\n",
            "Home-page: https://github.com/ESSI-Lab/semanticanalyser-py\n",
            "Author: Ahmad Mahmoud (CNR internship)\n",
            "Author-email: ahmad.mahmoud@edu.unifi.it\n",
            "License: GPL-3.0\n",
            "Location: /usr/local/lib/python3.12/dist-packages\n",
            "Requires: requests\n",
            "Required-by: \n"
          ]
        }
      ],
      "execution_count": 26
    },
    {
      "cell_type": "code",
      "metadata": {
        "id": "2N8B87uUcoNQ",
        "jupyter": {
          "is_executing": true
        },
        "colab": {
          "base_uri": "https://localhost:8080/",
          "height": 171,
          "referenced_widgets": [
            "3cf92c22b50441eb83a8915b98f1c6da",
            "a73f2bf724654458a528e18b7b87e865",
            "0e1a63c11ccc47aa9600e5a28da8c6c9",
            "7c15f27ec7494ba0829532c4dac60d0c",
            "05ebd112b11e42c6a9416b6d0946f597",
            "b497e648b21443cdb5de69314fed1b5f",
            "564171e555654dbc954bc675f490e29e",
            "a44fa65e7a5445e6bfba3f8afe759744",
            "5039bf4e56ab4e4db7f5893c9e9cda8f",
            "79722329502441a1a026dc10f4f9a46f",
            "fe162b9f5cd54cc5b615a690c18112b9",
            "8feb18620ee24a46bab6995757c5ad0a",
            "f2024f3b8ef640e6b4940b7365a1f32d",
            "42a1ee53ca7c49d185c21430f5a3d962",
            "c8b2e6e9052b4a47a45d47666bb07c8c",
            "44a75d481ddb46f29d9ed8c0aeb5c7a4",
            "baff2e972fb6428daf0d8c3df9759ef9"
          ]
        },
        "outputId": "0befb37a-a4c0-49fd-e2de-73094483fcaa"
      },
      "source": [
        "from semanticanalyser.analyser import *\n",
        "import ipywidgets as widgets\n",
        "from IPython.display import display\n",
        "\n",
        "\n",
        "analyser = SemanticAnalyser()\n",
        "match_types = analyser.getMatchTypes()\n",
        "match_properties = analyser.getMatchProperties()\n",
        "categories_data = analyser.get_categories()\n",
        "categories = ['All'] + [cat['name'] for cat in categories_data] # Add 'All' option and extract names\n",
        "\n",
        "\n",
        "\n",
        "\n",
        "# Create a text input widget\n",
        "term_input = widgets.Text(\n",
        "    value='',\n",
        "    placeholder='Enter term here',\n",
        "    description='Term:',\n",
        "    disabled=False\n",
        ")\n",
        "\n",
        "# Create dropdown for categories\n",
        "category_dropdown = widgets.Dropdown(\n",
        "    options=categories,\n",
        "    value='All',\n",
        "    description='Category:',\n",
        "    disabled=False,\n",
        ")\n",
        "\n",
        "# Create dropdown for match types\n",
        "match_type_dropdown = widgets.Dropdown(\n",
        "    options=['All'] + [str(mt) for mt in match_types],\n",
        "    value='All',\n",
        "    description='Match Type:',\n",
        "    disabled=False,\n",
        ")\n",
        "\n",
        "# Create dropdown for match properties\n",
        "match_property_dropdown = widgets.Dropdown(\n",
        "    options=['All'] + [str(mp) for mp in match_properties],\n",
        "    value='All',\n",
        "    description='Match Property:',\n",
        "    disabled=False,\n",
        ")\n",
        "\n",
        "\n",
        "\n",
        "\n",
        "# Create a button widget\n",
        "analyse_button = widgets.Button(\n",
        "    description='Analyse',\n",
        "    disabled=False,\n",
        "    button_style='', # 'success', 'info', 'warning', 'danger' or ''\n",
        "    tooltip='Click to analyse the term',\n",
        "    icon='search'\n",
        ")\n",
        "\n",
        "# Output widget to display the analysis results\n",
        "output_widget = widgets.Output()\n",
        "\n",
        "# Display the widgets\n",
        "display(term_input, category_dropdown, match_type_dropdown, match_property_dropdown, analyse_button, output_widget)\n",
        "\n",
        "\n",
        "\n",
        "\n",
        "# Define the function to handle button click\n",
        "def on_analyse_button_clicked(b):\n",
        "    with output_widget:\n",
        "        output_widget.clear_output()\n",
        "        term = term_input.value\n",
        "        selected_category_name = category_dropdown.value\n",
        "        selected_match_type_str = match_type_dropdown.value\n",
        "        selected_match_property_str = match_property_dropdown.value\n",
        "\n",
        "        if term:\n",
        "            print(f\"Analyzing term: {term}\")\n",
        "            print(f\"Selected Category: {selected_category_name}\")\n",
        "            print(f\"Selected Match Type: {selected_match_type_str}\")\n",
        "            print(f\"Selected Match Property: {selected_match_property_str}\")\n",
        "\n",
        "            match_types_for_analysis = match_types if selected_match_type_str == 'All' else [mt for mt in match_types if str(mt) == selected_match_type_str]\n",
        "            match_properties_for_analysis = match_properties if selected_match_property_str == 'All' else [mp for mp in match_properties if str(mp) == selected_match_property_str]\n",
        "\n",
        "            if selected_category_name == 'All':\n",
        "                 response = analyser.analyseTermsWithoutCategory([term], match_types_for_analysis, match_properties_for_analysis)\n",
        "            else:\n",
        "                response = analyser.analyseTerms([term], match_types_for_analysis, match_properties_for_analysis, selected_category_name)\n",
        "\n",
        "            print()\n",
        "            print(response.to_string())\n",
        "\n",
        "# Link the button click to the function\n",
        "analyse_button.on_click(on_analyse_button_clicked)"
      ],
      "outputs": [
        {
          "output_type": "display_data",
          "data": {
            "text/plain": [
              "Text(value='', description='Term:', placeholder='Enter term here')"
            ],
            "application/vnd.jupyter.widget-view+json": {
              "version_major": 2,
              "version_minor": 0,
              "model_id": "3cf92c22b50441eb83a8915b98f1c6da"
            }
          },
          "metadata": {}
        },
        {
          "output_type": "display_data",
          "data": {
            "text/plain": [
              "Dropdown(description='Category:', options=('All', 'parameter', 'instrument', 'platform', 'theme'), value='All'…"
            ],
            "application/vnd.jupyter.widget-view+json": {
              "version_major": 2,
              "version_minor": 0,
              "model_id": "7c15f27ec7494ba0829532c4dac60d0c"
            }
          },
          "metadata": {}
        },
        {
          "output_type": "display_data",
          "data": {
            "text/plain": [
              "Dropdown(description='Match Type:', options=('All', 'exactMatch', 'proximityMatch', 'wildcardMatch'), value='A…"
            ],
            "application/vnd.jupyter.widget-view+json": {
              "version_major": 2,
              "version_minor": 0,
              "model_id": "564171e555654dbc954bc675f490e29e"
            }
          },
          "metadata": {}
        },
        {
          "output_type": "display_data",
          "data": {
            "text/plain": [
              "Dropdown(description='Match Property:', options=('All', 'identifier', 'prefLabel', 'definition', 'altLabel'), …"
            ],
            "application/vnd.jupyter.widget-view+json": {
              "version_major": 2,
              "version_minor": 0,
              "model_id": "79722329502441a1a026dc10f4f9a46f"
            }
          },
          "metadata": {}
        },
        {
          "output_type": "display_data",
          "data": {
            "text/plain": [
              "Button(description='Analyse', icon='search', style=ButtonStyle(), tooltip='Click to analyse the term')"
            ],
            "application/vnd.jupyter.widget-view+json": {
              "version_major": 2,
              "version_minor": 0,
              "model_id": "f2024f3b8ef640e6b4940b7365a1f32d"
            }
          },
          "metadata": {}
        },
        {
          "output_type": "display_data",
          "data": {
            "text/plain": [
              "Output()"
            ],
            "application/vnd.jupyter.widget-view+json": {
              "version_major": 2,
              "version_minor": 0,
              "model_id": "44a75d481ddb46f29d9ed8c0aeb5c7a4"
            }
          },
          "metadata": {}
        }
      ],
      "execution_count": 28
    },
    {
      "cell_type": "markdown",
      "source": [
        "After clicking the 'analyse' button, the output widget will display the results of the semantic analysis. For each match found, you will see details such as:\n",
        "\n",
        "*   The Matching Term: the term from the vocabulary that matches your input\n",
        "*   The Match Property and Match Type: indicating the nature of the match\n",
        "*   The Category: if the term is a parameter, instrument, platform or theme\n",
        "*   The Term Code: a unique identifier for the matched term\n",
        "*   The Vocabulary the term belongs to\n",
        "*   The Concept URI: a persistent identifier for the concept\n",
        "\n",
        "If no matches are found for the given term and category, a message indicating this will be displayed.\n",
        "\n"
      ],
      "metadata": {
        "id": "IS6EdoHutKGP"
      }
    }
  ],
  "metadata": {
    "colab": {
      "provenance": []
    },
    "kernelspec": {
      "display_name": "Python 3",
      "name": "python3"
    },
    "language_info": {
      "name": "python"
    },
    "widgets": {
      "application/vnd.jupyter.widget-state+json": {
        "3cf92c22b50441eb83a8915b98f1c6da": {
          "model_module": "@jupyter-widgets/controls",
          "model_name": "TextModel",
          "model_module_version": "1.5.0",
          "state": {
            "_dom_classes": [],
            "_model_module": "@jupyter-widgets/controls",
            "_model_module_version": "1.5.0",
            "_model_name": "TextModel",
            "_view_count": null,
            "_view_module": "@jupyter-widgets/controls",
            "_view_module_version": "1.5.0",
            "_view_name": "TextView",
            "continuous_update": true,
            "description": "Term:",
            "description_tooltip": null,
            "disabled": false,
            "layout": "IPY_MODEL_a73f2bf724654458a528e18b7b87e865",
            "placeholder": "Enter term here",
            "style": "IPY_MODEL_0e1a63c11ccc47aa9600e5a28da8c6c9",
            "value": ""
          }
        },
        "a73f2bf724654458a528e18b7b87e865": {
          "model_module": "@jupyter-widgets/base",
          "model_name": "LayoutModel",
          "model_module_version": "1.2.0",
          "state": {
            "_model_module": "@jupyter-widgets/base",
            "_model_module_version": "1.2.0",
            "_model_name": "LayoutModel",
            "_view_count": null,
            "_view_module": "@jupyter-widgets/base",
            "_view_module_version": "1.2.0",
            "_view_name": "LayoutView",
            "align_content": null,
            "align_items": null,
            "align_self": null,
            "border": null,
            "bottom": null,
            "display": null,
            "flex": null,
            "flex_flow": null,
            "grid_area": null,
            "grid_auto_columns": null,
            "grid_auto_flow": null,
            "grid_auto_rows": null,
            "grid_column": null,
            "grid_gap": null,
            "grid_row": null,
            "grid_template_areas": null,
            "grid_template_columns": null,
            "grid_template_rows": null,
            "height": null,
            "justify_content": null,
            "justify_items": null,
            "left": null,
            "margin": null,
            "max_height": null,
            "max_width": null,
            "min_height": null,
            "min_width": null,
            "object_fit": null,
            "object_position": null,
            "order": null,
            "overflow": null,
            "overflow_x": null,
            "overflow_y": null,
            "padding": null,
            "right": null,
            "top": null,
            "visibility": null,
            "width": null
          }
        },
        "0e1a63c11ccc47aa9600e5a28da8c6c9": {
          "model_module": "@jupyter-widgets/controls",
          "model_name": "DescriptionStyleModel",
          "model_module_version": "1.5.0",
          "state": {
            "_model_module": "@jupyter-widgets/controls",
            "_model_module_version": "1.5.0",
            "_model_name": "DescriptionStyleModel",
            "_view_count": null,
            "_view_module": "@jupyter-widgets/base",
            "_view_module_version": "1.2.0",
            "_view_name": "StyleView",
            "description_width": ""
          }
        },
        "7c15f27ec7494ba0829532c4dac60d0c": {
          "model_module": "@jupyter-widgets/controls",
          "model_name": "DropdownModel",
          "model_module_version": "1.5.0",
          "state": {
            "_dom_classes": [],
            "_model_module": "@jupyter-widgets/controls",
            "_model_module_version": "1.5.0",
            "_model_name": "DropdownModel",
            "_options_labels": [
              "All",
              "parameter",
              "instrument",
              "platform",
              "theme"
            ],
            "_view_count": null,
            "_view_module": "@jupyter-widgets/controls",
            "_view_module_version": "1.5.0",
            "_view_name": "DropdownView",
            "description": "Category:",
            "description_tooltip": null,
            "disabled": false,
            "index": 0,
            "layout": "IPY_MODEL_05ebd112b11e42c6a9416b6d0946f597",
            "style": "IPY_MODEL_b497e648b21443cdb5de69314fed1b5f"
          }
        },
        "05ebd112b11e42c6a9416b6d0946f597": {
          "model_module": "@jupyter-widgets/base",
          "model_name": "LayoutModel",
          "model_module_version": "1.2.0",
          "state": {
            "_model_module": "@jupyter-widgets/base",
            "_model_module_version": "1.2.0",
            "_model_name": "LayoutModel",
            "_view_count": null,
            "_view_module": "@jupyter-widgets/base",
            "_view_module_version": "1.2.0",
            "_view_name": "LayoutView",
            "align_content": null,
            "align_items": null,
            "align_self": null,
            "border": null,
            "bottom": null,
            "display": null,
            "flex": null,
            "flex_flow": null,
            "grid_area": null,
            "grid_auto_columns": null,
            "grid_auto_flow": null,
            "grid_auto_rows": null,
            "grid_column": null,
            "grid_gap": null,
            "grid_row": null,
            "grid_template_areas": null,
            "grid_template_columns": null,
            "grid_template_rows": null,
            "height": null,
            "justify_content": null,
            "justify_items": null,
            "left": null,
            "margin": null,
            "max_height": null,
            "max_width": null,
            "min_height": null,
            "min_width": null,
            "object_fit": null,
            "object_position": null,
            "order": null,
            "overflow": null,
            "overflow_x": null,
            "overflow_y": null,
            "padding": null,
            "right": null,
            "top": null,
            "visibility": null,
            "width": null
          }
        },
        "b497e648b21443cdb5de69314fed1b5f": {
          "model_module": "@jupyter-widgets/controls",
          "model_name": "DescriptionStyleModel",
          "model_module_version": "1.5.0",
          "state": {
            "_model_module": "@jupyter-widgets/controls",
            "_model_module_version": "1.5.0",
            "_model_name": "DescriptionStyleModel",
            "_view_count": null,
            "_view_module": "@jupyter-widgets/base",
            "_view_module_version": "1.2.0",
            "_view_name": "StyleView",
            "description_width": ""
          }
        },
        "564171e555654dbc954bc675f490e29e": {
          "model_module": "@jupyter-widgets/controls",
          "model_name": "DropdownModel",
          "model_module_version": "1.5.0",
          "state": {
            "_dom_classes": [],
            "_model_module": "@jupyter-widgets/controls",
            "_model_module_version": "1.5.0",
            "_model_name": "DropdownModel",
            "_options_labels": [
              "All",
              "exactMatch",
              "proximityMatch",
              "wildcardMatch"
            ],
            "_view_count": null,
            "_view_module": "@jupyter-widgets/controls",
            "_view_module_version": "1.5.0",
            "_view_name": "DropdownView",
            "description": "Match Type:",
            "description_tooltip": null,
            "disabled": false,
            "index": 0,
            "layout": "IPY_MODEL_a44fa65e7a5445e6bfba3f8afe759744",
            "style": "IPY_MODEL_5039bf4e56ab4e4db7f5893c9e9cda8f"
          }
        },
        "a44fa65e7a5445e6bfba3f8afe759744": {
          "model_module": "@jupyter-widgets/base",
          "model_name": "LayoutModel",
          "model_module_version": "1.2.0",
          "state": {
            "_model_module": "@jupyter-widgets/base",
            "_model_module_version": "1.2.0",
            "_model_name": "LayoutModel",
            "_view_count": null,
            "_view_module": "@jupyter-widgets/base",
            "_view_module_version": "1.2.0",
            "_view_name": "LayoutView",
            "align_content": null,
            "align_items": null,
            "align_self": null,
            "border": null,
            "bottom": null,
            "display": null,
            "flex": null,
            "flex_flow": null,
            "grid_area": null,
            "grid_auto_columns": null,
            "grid_auto_flow": null,
            "grid_auto_rows": null,
            "grid_column": null,
            "grid_gap": null,
            "grid_row": null,
            "grid_template_areas": null,
            "grid_template_columns": null,
            "grid_template_rows": null,
            "height": null,
            "justify_content": null,
            "justify_items": null,
            "left": null,
            "margin": null,
            "max_height": null,
            "max_width": null,
            "min_height": null,
            "min_width": null,
            "object_fit": null,
            "object_position": null,
            "order": null,
            "overflow": null,
            "overflow_x": null,
            "overflow_y": null,
            "padding": null,
            "right": null,
            "top": null,
            "visibility": null,
            "width": null
          }
        },
        "5039bf4e56ab4e4db7f5893c9e9cda8f": {
          "model_module": "@jupyter-widgets/controls",
          "model_name": "DescriptionStyleModel",
          "model_module_version": "1.5.0",
          "state": {
            "_model_module": "@jupyter-widgets/controls",
            "_model_module_version": "1.5.0",
            "_model_name": "DescriptionStyleModel",
            "_view_count": null,
            "_view_module": "@jupyter-widgets/base",
            "_view_module_version": "1.2.0",
            "_view_name": "StyleView",
            "description_width": ""
          }
        },
        "79722329502441a1a026dc10f4f9a46f": {
          "model_module": "@jupyter-widgets/controls",
          "model_name": "DropdownModel",
          "model_module_version": "1.5.0",
          "state": {
            "_dom_classes": [],
            "_model_module": "@jupyter-widgets/controls",
            "_model_module_version": "1.5.0",
            "_model_name": "DropdownModel",
            "_options_labels": [
              "All",
              "identifier",
              "prefLabel",
              "definition",
              "altLabel"
            ],
            "_view_count": null,
            "_view_module": "@jupyter-widgets/controls",
            "_view_module_version": "1.5.0",
            "_view_name": "DropdownView",
            "description": "Match Property:",
            "description_tooltip": null,
            "disabled": false,
            "index": 0,
            "layout": "IPY_MODEL_fe162b9f5cd54cc5b615a690c18112b9",
            "style": "IPY_MODEL_8feb18620ee24a46bab6995757c5ad0a"
          }
        },
        "fe162b9f5cd54cc5b615a690c18112b9": {
          "model_module": "@jupyter-widgets/base",
          "model_name": "LayoutModel",
          "model_module_version": "1.2.0",
          "state": {
            "_model_module": "@jupyter-widgets/base",
            "_model_module_version": "1.2.0",
            "_model_name": "LayoutModel",
            "_view_count": null,
            "_view_module": "@jupyter-widgets/base",
            "_view_module_version": "1.2.0",
            "_view_name": "LayoutView",
            "align_content": null,
            "align_items": null,
            "align_self": null,
            "border": null,
            "bottom": null,
            "display": null,
            "flex": null,
            "flex_flow": null,
            "grid_area": null,
            "grid_auto_columns": null,
            "grid_auto_flow": null,
            "grid_auto_rows": null,
            "grid_column": null,
            "grid_gap": null,
            "grid_row": null,
            "grid_template_areas": null,
            "grid_template_columns": null,
            "grid_template_rows": null,
            "height": null,
            "justify_content": null,
            "justify_items": null,
            "left": null,
            "margin": null,
            "max_height": null,
            "max_width": null,
            "min_height": null,
            "min_width": null,
            "object_fit": null,
            "object_position": null,
            "order": null,
            "overflow": null,
            "overflow_x": null,
            "overflow_y": null,
            "padding": null,
            "right": null,
            "top": null,
            "visibility": null,
            "width": null
          }
        },
        "8feb18620ee24a46bab6995757c5ad0a": {
          "model_module": "@jupyter-widgets/controls",
          "model_name": "DescriptionStyleModel",
          "model_module_version": "1.5.0",
          "state": {
            "_model_module": "@jupyter-widgets/controls",
            "_model_module_version": "1.5.0",
            "_model_name": "DescriptionStyleModel",
            "_view_count": null,
            "_view_module": "@jupyter-widgets/base",
            "_view_module_version": "1.2.0",
            "_view_name": "StyleView",
            "description_width": ""
          }
        },
        "f2024f3b8ef640e6b4940b7365a1f32d": {
          "model_module": "@jupyter-widgets/controls",
          "model_name": "ButtonModel",
          "model_module_version": "1.5.0",
          "state": {
            "_dom_classes": [],
            "_model_module": "@jupyter-widgets/controls",
            "_model_module_version": "1.5.0",
            "_model_name": "ButtonModel",
            "_view_count": null,
            "_view_module": "@jupyter-widgets/controls",
            "_view_module_version": "1.5.0",
            "_view_name": "ButtonView",
            "button_style": "",
            "description": "Analyse",
            "disabled": false,
            "icon": "search",
            "layout": "IPY_MODEL_42a1ee53ca7c49d185c21430f5a3d962",
            "style": "IPY_MODEL_c8b2e6e9052b4a47a45d47666bb07c8c",
            "tooltip": "Click to analyse the term"
          }
        },
        "42a1ee53ca7c49d185c21430f5a3d962": {
          "model_module": "@jupyter-widgets/base",
          "model_name": "LayoutModel",
          "model_module_version": "1.2.0",
          "state": {
            "_model_module": "@jupyter-widgets/base",
            "_model_module_version": "1.2.0",
            "_model_name": "LayoutModel",
            "_view_count": null,
            "_view_module": "@jupyter-widgets/base",
            "_view_module_version": "1.2.0",
            "_view_name": "LayoutView",
            "align_content": null,
            "align_items": null,
            "align_self": null,
            "border": null,
            "bottom": null,
            "display": null,
            "flex": null,
            "flex_flow": null,
            "grid_area": null,
            "grid_auto_columns": null,
            "grid_auto_flow": null,
            "grid_auto_rows": null,
            "grid_column": null,
            "grid_gap": null,
            "grid_row": null,
            "grid_template_areas": null,
            "grid_template_columns": null,
            "grid_template_rows": null,
            "height": null,
            "justify_content": null,
            "justify_items": null,
            "left": null,
            "margin": null,
            "max_height": null,
            "max_width": null,
            "min_height": null,
            "min_width": null,
            "object_fit": null,
            "object_position": null,
            "order": null,
            "overflow": null,
            "overflow_x": null,
            "overflow_y": null,
            "padding": null,
            "right": null,
            "top": null,
            "visibility": null,
            "width": null
          }
        },
        "c8b2e6e9052b4a47a45d47666bb07c8c": {
          "model_module": "@jupyter-widgets/controls",
          "model_name": "ButtonStyleModel",
          "model_module_version": "1.5.0",
          "state": {
            "_model_module": "@jupyter-widgets/controls",
            "_model_module_version": "1.5.0",
            "_model_name": "ButtonStyleModel",
            "_view_count": null,
            "_view_module": "@jupyter-widgets/base",
            "_view_module_version": "1.2.0",
            "_view_name": "StyleView",
            "button_color": null,
            "font_weight": ""
          }
        },
        "44a75d481ddb46f29d9ed8c0aeb5c7a4": {
          "model_module": "@jupyter-widgets/output",
          "model_name": "OutputModel",
          "model_module_version": "1.0.0",
          "state": {
            "_dom_classes": [],
            "_model_module": "@jupyter-widgets/output",
            "_model_module_version": "1.0.0",
            "_model_name": "OutputModel",
            "_view_count": null,
            "_view_module": "@jupyter-widgets/output",
            "_view_module_version": "1.0.0",
            "_view_name": "OutputView",
            "layout": "IPY_MODEL_baff2e972fb6428daf0d8c3df9759ef9",
            "msg_id": "",
            "outputs": []
          }
        },
        "baff2e972fb6428daf0d8c3df9759ef9": {
          "model_module": "@jupyter-widgets/base",
          "model_name": "LayoutModel",
          "model_module_version": "1.2.0",
          "state": {
            "_model_module": "@jupyter-widgets/base",
            "_model_module_version": "1.2.0",
            "_model_name": "LayoutModel",
            "_view_count": null,
            "_view_module": "@jupyter-widgets/base",
            "_view_module_version": "1.2.0",
            "_view_name": "LayoutView",
            "align_content": null,
            "align_items": null,
            "align_self": null,
            "border": null,
            "bottom": null,
            "display": null,
            "flex": null,
            "flex_flow": null,
            "grid_area": null,
            "grid_auto_columns": null,
            "grid_auto_flow": null,
            "grid_auto_rows": null,
            "grid_column": null,
            "grid_gap": null,
            "grid_row": null,
            "grid_template_areas": null,
            "grid_template_columns": null,
            "grid_template_rows": null,
            "height": null,
            "justify_content": null,
            "justify_items": null,
            "left": null,
            "margin": null,
            "max_height": null,
            "max_width": null,
            "min_height": null,
            "min_width": null,
            "object_fit": null,
            "object_position": null,
            "order": null,
            "overflow": null,
            "overflow_x": null,
            "overflow_y": null,
            "padding": null,
            "right": null,
            "top": null,
            "visibility": null,
            "width": null
          }
        }
      }
    }
  },
  "nbformat": 4,
  "nbformat_minor": 0
}