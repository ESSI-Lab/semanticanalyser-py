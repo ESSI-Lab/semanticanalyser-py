{
  "cells": [
    {
      "cell_type": "markdown",
      "metadata": {
        "id": "UJh_I5EYQJ8_"
      },
      "source": [
        "# **semantic**"
      ]
    },
    {
      "cell_type": "code",
      "metadata": {
        "colab": {
          "base_uri": "https://localhost:8080/"
        },
        "id": "apXLdIWVAAjA",
        "outputId": "aca90cc3-758c-45bf-bee4-2a455a98b58f",
        "jupyter": {
          "is_executing": true
        }
      },
      "source": [
        "!pip install --upgrade semanticanalyser-py\n",
        "!pip show semanticanalyser-py"
      ],
      "outputs": [
        {
          "output_type": "stream",
          "name": "stdout",
          "text": [
            "Collecting semanticanalyser-py\n",
            "  Downloading semanticanalyser_py-0.1.5-py3-none-any.whl.metadata (4.5 kB)\n",
            "Requirement already satisfied: requests>=2.25.0 in /usr/local/lib/python3.12/dist-packages (from semanticanalyser-py) (2.32.4)\n",
            "Requirement already satisfied: charset_normalizer<4,>=2 in /usr/local/lib/python3.12/dist-packages (from requests>=2.25.0->semanticanalyser-py) (3.4.3)\n",
            "Requirement already satisfied: idna<4,>=2.5 in /usr/local/lib/python3.12/dist-packages (from requests>=2.25.0->semanticanalyser-py) (3.10)\n",
            "Requirement already satisfied: urllib3<3,>=1.21.1 in /usr/local/lib/python3.12/dist-packages (from requests>=2.25.0->semanticanalyser-py) (2.5.0)\n",
            "Requirement already satisfied: certifi>=2017.4.17 in /usr/local/lib/python3.12/dist-packages (from requests>=2.25.0->semanticanalyser-py) (2025.8.3)\n",
            "Downloading semanticanalyser_py-0.1.5-py3-none-any.whl (17 kB)\n",
            "Installing collected packages: semanticanalyser-py\n",
            "Successfully installed semanticanalyser-py-0.1.5\n",
            "Name: semanticanalyser-py\n",
            "Version: 0.1.5\n",
            "Summary: A Python binding for the Semantic Analyser service maintained by BODC\n",
            "Home-page: https://github.com/ESSI-Lab/semanticanalyser-py\n",
            "Author: Ahmad Mahmoud (CNR internship)\n",
            "Author-email: ahmad.mahmoud@edu.unifi.it\n",
            "License: GPL-3.0\n",
            "Location: /usr/local/lib/python3.12/dist-packages\n",
            "Requires: requests\n",
            "Required-by: \n"
          ]
        }
      ],
      "execution_count": 1
    },
    {
      "cell_type": "code",
      "metadata": {
        "colab": {
          "base_uri": "https://localhost:8080/",
          "height": 527,
          "referenced_widgets": [
            "4d0402932140484188c69a4e0b1edf85",
            "cc486cd368e94e38805c69ca7c8e7950",
            "e5ebe0e645af43c5abd500b7899f5e63",
            "13b0df69f3364abc9e57d890eb1548dd",
            "9ace22e4c5e041be9739d3244b94d77e",
            "32de3443647f4ec9ba861f2cdaeec674",
            "46a0827792824debb950532a690d6a3d",
            "98196a5b9a6a4b45bdf35b36888a07b7",
            "8a0adb1018744c4aa74585efa3ecff06",
            "8cb0baad629543e5909ca6abb285cb3d",
            "dbc7026a19884edc93a650e465073ef9"
          ]
        },
        "id": "2N8B87uUcoNQ",
        "outputId": "a1b8cfd8-1d6d-4727-d461-02ef875e3a7e",
        "jupyter": {
          "is_executing": true
        }
      },
      "source": [
        "from semanticanalyser.analyser import *\n",
        "from ipywidgets import Dropdown, Button, VBox, Output, Text\n",
        "\n",
        "analyser = SemanticAnalyser()\n",
        "match_types = analyser.getMatchTypes()\n",
        "match_properties = analyser.getMatchProperties()\n",
        "match_categories = analyser.get_categories()\n",
        "\n",
        "categories_list = [category['name'] for category in match_categories]\n",
        "\n",
        "term_input = Text(\n",
        "    description='Enter Term:',\n",
        "    placeholder='Type here...'\n",
        ")\n",
        "\n",
        "category_dropdown = Dropdown(\n",
        "    options=categories_list,\n",
        "    description='Select Category:',\n",
        ")\n",
        "\n",
        "analyse_button = Button(description=\"analyse\")\n",
        "\n",
        "\n",
        "output_widget = Output()\n",
        "\n",
        "def display_vocabularies(category):\n",
        "  \"\"\"Retrieves and displays vocabularies for a given category.\"\"\"\n",
        "  print(f\"Fetching vocabularies for category: {category}\")\n",
        "  vocabularies = analyser.get_vocabularies(category)\n",
        "  if vocabularies:\n",
        "    print(\"Vocabularies:\")\n",
        "    for vocab in vocabularies:\n",
        "      print(vocab)\n",
        "  else:\n",
        "    print(f\"No vocabularies found for category: {category}\")\n",
        "\n",
        "def analyse_term_with_category(term, category):\n",
        "    \"\"\"analyses a single term using the selected category's vocabularies and displays results.\"\"\"\n",
        "    print(f\"analysing term: '{term}' in category: '{category}'\")\n",
        "    analysis_results = analyser.analyseTerms([term], match_types, match_properties)\n",
        "\n",
        "    if analysis_results:\n",
        "        print(\"\\nAnalysis Results:\")\n",
        "        matches = analysis_results.get_matches()\n",
        "        if matches:\n",
        "            for match in matches:\n",
        "                print(f\"  Matching Term: {match.getMatchingTerm()}\")\n",
        "                print(f\"  Match Property: {match.getMatchProperty()}\")\n",
        "                print(f\"  Match Type: {match.getMatchType()}\")\n",
        "                print(f\"  Term Code: {match.getTermCode()}\")\n",
        "                print(f\"  Vocabulary: {match.getVocabulary()}\")\n",
        "                print(f\"  Concept URI: {match.getConceptURI()}\")\n",
        "                print(\"-\" * 20)\n",
        "        else:\n",
        "            print(\"  No matches found for the given term and category.\")\n",
        "    else:\n",
        "        print(\"Analysis failed.\")\n",
        "\n",
        "\n",
        "def on_button_click(b):\n",
        "    \"\"\"Handles button click event to analyse term.\"\"\"\n",
        "    with output_widget:\n",
        "        output_widget.clear_output()\n",
        "        analyse_term_with_category(term_input.value, category_dropdown.value)\n",
        "\n",
        "\n",
        "analyse_button.on_click(on_button_click)\n",
        "\n",
        "display(term_input)\n",
        "display(category_dropdown)\n",
        "display(analyse_button)\n",
        "display(output_widget)"
      ],
      "outputs": [
        {
          "output_type": "display_data",
          "data": {
            "text/plain": [
              "Text(value='', description='Enter Term:', placeholder='Type here...')"
            ],
            "application/vnd.jupyter.widget-view+json": {
              "version_major": 2,
              "version_minor": 0,
              "model_id": "4d0402932140484188c69a4e0b1edf85"
            }
          },
          "metadata": {}
        },
        {
          "output_type": "display_data",
          "data": {
            "text/plain": [
              "Dropdown(description='Select Category:', options=('parameter', 'instrument', 'platform', 'theme'), value='para…"
            ],
            "application/vnd.jupyter.widget-view+json": {
              "version_major": 2,
              "version_minor": 0,
              "model_id": "13b0df69f3364abc9e57d890eb1548dd"
            }
          },
          "metadata": {}
        },
        {
          "output_type": "display_data",
          "data": {
            "text/plain": [
              "Button(description='analyse', style=ButtonStyle())"
            ],
            "application/vnd.jupyter.widget-view+json": {
              "version_major": 2,
              "version_minor": 0,
              "model_id": "46a0827792824debb950532a690d6a3d"
            }
          },
          "metadata": {}
        },
        {
          "output_type": "display_data",
          "data": {
            "text/plain": [
              "Output()"
            ],
            "application/vnd.jupyter.widget-view+json": {
              "version_major": 2,
              "version_minor": 0,
              "model_id": "8cb0baad629543e5909ca6abb285cb3d"
            }
          },
          "metadata": {}
        }
      ],
      "execution_count": 5
    }
  ],
  "metadata": {
    "colab": {
      "provenance": []
    },
    "kernelspec": {
      "display_name": "Python 3",
      "name": "python3"
    },
    "language_info": {
      "name": "python"
    },
    "widgets": {
      "application/vnd.jupyter.widget-state+json": {
        "4d0402932140484188c69a4e0b1edf85": {
          "model_module": "@jupyter-widgets/controls",
          "model_name": "TextModel",
          "model_module_version": "1.5.0",
          "state": {
            "_dom_classes": [],
            "_model_module": "@jupyter-widgets/controls",
            "_model_module_version": "1.5.0",
            "_model_name": "TextModel",
            "_view_count": null,
            "_view_module": "@jupyter-widgets/controls",
            "_view_module_version": "1.5.0",
            "_view_name": "TextView",
            "continuous_update": true,
            "description": "Enter Term:",
            "description_tooltip": null,
            "disabled": false,
            "layout": "IPY_MODEL_cc486cd368e94e38805c69ca7c8e7950",
            "placeholder": "Type here...",
            "style": "IPY_MODEL_e5ebe0e645af43c5abd500b7899f5e63",
            "value": "fife"
          }
        },
        "cc486cd368e94e38805c69ca7c8e7950": {
          "model_module": "@jupyter-widgets/base",
          "model_name": "LayoutModel",
          "model_module_version": "1.2.0",
          "state": {
            "_model_module": "@jupyter-widgets/base",
            "_model_module_version": "1.2.0",
            "_model_name": "LayoutModel",
            "_view_count": null,
            "_view_module": "@jupyter-widgets/base",
            "_view_module_version": "1.2.0",
            "_view_name": "LayoutView",
            "align_content": null,
            "align_items": null,
            "align_self": null,
            "border": null,
            "bottom": null,
            "display": null,
            "flex": null,
            "flex_flow": null,
            "grid_area": null,
            "grid_auto_columns": null,
            "grid_auto_flow": null,
            "grid_auto_rows": null,
            "grid_column": null,
            "grid_gap": null,
            "grid_row": null,
            "grid_template_areas": null,
            "grid_template_columns": null,
            "grid_template_rows": null,
            "height": null,
            "justify_content": null,
            "justify_items": null,
            "left": null,
            "margin": null,
            "max_height": null,
            "max_width": null,
            "min_height": null,
            "min_width": null,
            "object_fit": null,
            "object_position": null,
            "order": null,
            "overflow": null,
            "overflow_x": null,
            "overflow_y": null,
            "padding": null,
            "right": null,
            "top": null,
            "visibility": null,
            "width": null
          }
        },
        "e5ebe0e645af43c5abd500b7899f5e63": {
          "model_module": "@jupyter-widgets/controls",
          "model_name": "DescriptionStyleModel",
          "model_module_version": "1.5.0",
          "state": {
            "_model_module": "@jupyter-widgets/controls",
            "_model_module_version": "1.5.0",
            "_model_name": "DescriptionStyleModel",
            "_view_count": null,
            "_view_module": "@jupyter-widgets/base",
            "_view_module_version": "1.2.0",
            "_view_name": "StyleView",
            "description_width": ""
          }
        },
        "13b0df69f3364abc9e57d890eb1548dd": {
          "model_module": "@jupyter-widgets/controls",
          "model_name": "DropdownModel",
          "model_module_version": "1.5.0",
          "state": {
            "_dom_classes": [],
            "_model_module": "@jupyter-widgets/controls",
            "_model_module_version": "1.5.0",
            "_model_name": "DropdownModel",
            "_options_labels": [
              "parameter",
              "instrument",
              "platform",
              "theme"
            ],
            "_view_count": null,
            "_view_module": "@jupyter-widgets/controls",
            "_view_module_version": "1.5.0",
            "_view_name": "DropdownView",
            "description": "Select Category:",
            "description_tooltip": null,
            "disabled": false,
            "index": 2,
            "layout": "IPY_MODEL_9ace22e4c5e041be9739d3244b94d77e",
            "style": "IPY_MODEL_32de3443647f4ec9ba861f2cdaeec674"
          }
        },
        "9ace22e4c5e041be9739d3244b94d77e": {
          "model_module": "@jupyter-widgets/base",
          "model_name": "LayoutModel",
          "model_module_version": "1.2.0",
          "state": {
            "_model_module": "@jupyter-widgets/base",
            "_model_module_version": "1.2.0",
            "_model_name": "LayoutModel",
            "_view_count": null,
            "_view_module": "@jupyter-widgets/base",
            "_view_module_version": "1.2.0",
            "_view_name": "LayoutView",
            "align_content": null,
            "align_items": null,
            "align_self": null,
            "border": null,
            "bottom": null,
            "display": null,
            "flex": null,
            "flex_flow": null,
            "grid_area": null,
            "grid_auto_columns": null,
            "grid_auto_flow": null,
            "grid_auto_rows": null,
            "grid_column": null,
            "grid_gap": null,
            "grid_row": null,
            "grid_template_areas": null,
            "grid_template_columns": null,
            "grid_template_rows": null,
            "height": null,
            "justify_content": null,
            "justify_items": null,
            "left": null,
            "margin": null,
            "max_height": null,
            "max_width": null,
            "min_height": null,
            "min_width": null,
            "object_fit": null,
            "object_position": null,
            "order": null,
            "overflow": null,
            "overflow_x": null,
            "overflow_y": null,
            "padding": null,
            "right": null,
            "top": null,
            "visibility": null,
            "width": null
          }
        },
        "32de3443647f4ec9ba861f2cdaeec674": {
          "model_module": "@jupyter-widgets/controls",
          "model_name": "DescriptionStyleModel",
          "model_module_version": "1.5.0",
          "state": {
            "_model_module": "@jupyter-widgets/controls",
            "_model_module_version": "1.5.0",
            "_model_name": "DescriptionStyleModel",
            "_view_count": null,
            "_view_module": "@jupyter-widgets/base",
            "_view_module_version": "1.2.0",
            "_view_name": "StyleView",
            "description_width": ""
          }
        },
        "46a0827792824debb950532a690d6a3d": {
          "model_module": "@jupyter-widgets/controls",
          "model_name": "ButtonModel",
          "model_module_version": "1.5.0",
          "state": {
            "_dom_classes": [],
            "_model_module": "@jupyter-widgets/controls",
            "_model_module_version": "1.5.0",
            "_model_name": "ButtonModel",
            "_view_count": null,
            "_view_module": "@jupyter-widgets/controls",
            "_view_module_version": "1.5.0",
            "_view_name": "ButtonView",
            "button_style": "",
            "description": "analyse",
            "disabled": false,
            "icon": "",
            "layout": "IPY_MODEL_98196a5b9a6a4b45bdf35b36888a07b7",
            "style": "IPY_MODEL_8a0adb1018744c4aa74585efa3ecff06",
            "tooltip": ""
          }
        },
        "98196a5b9a6a4b45bdf35b36888a07b7": {
          "model_module": "@jupyter-widgets/base",
          "model_name": "LayoutModel",
          "model_module_version": "1.2.0",
          "state": {
            "_model_module": "@jupyter-widgets/base",
            "_model_module_version": "1.2.0",
            "_model_name": "LayoutModel",
            "_view_count": null,
            "_view_module": "@jupyter-widgets/base",
            "_view_module_version": "1.2.0",
            "_view_name": "LayoutView",
            "align_content": null,
            "align_items": null,
            "align_self": null,
            "border": null,
            "bottom": null,
            "display": null,
            "flex": null,
            "flex_flow": null,
            "grid_area": null,
            "grid_auto_columns": null,
            "grid_auto_flow": null,
            "grid_auto_rows": null,
            "grid_column": null,
            "grid_gap": null,
            "grid_row": null,
            "grid_template_areas": null,
            "grid_template_columns": null,
            "grid_template_rows": null,
            "height": null,
            "justify_content": null,
            "justify_items": null,
            "left": null,
            "margin": null,
            "max_height": null,
            "max_width": null,
            "min_height": null,
            "min_width": null,
            "object_fit": null,
            "object_position": null,
            "order": null,
            "overflow": null,
            "overflow_x": null,
            "overflow_y": null,
            "padding": null,
            "right": null,
            "top": null,
            "visibility": null,
            "width": null
          }
        },
        "8a0adb1018744c4aa74585efa3ecff06": {
          "model_module": "@jupyter-widgets/controls",
          "model_name": "ButtonStyleModel",
          "model_module_version": "1.5.0",
          "state": {
            "_model_module": "@jupyter-widgets/controls",
            "_model_module_version": "1.5.0",
            "_model_name": "ButtonStyleModel",
            "_view_count": null,
            "_view_module": "@jupyter-widgets/base",
            "_view_module_version": "1.2.0",
            "_view_name": "StyleView",
            "button_color": null,
            "font_weight": ""
          }
        },
        "8cb0baad629543e5909ca6abb285cb3d": {
          "model_module": "@jupyter-widgets/output",
          "model_name": "OutputModel",
          "model_module_version": "1.0.0",
          "state": {
            "_dom_classes": [],
            "_model_module": "@jupyter-widgets/output",
            "_model_module_version": "1.0.0",
            "_model_name": "OutputModel",
            "_view_count": null,
            "_view_module": "@jupyter-widgets/output",
            "_view_module_version": "1.0.0",
            "_view_name": "OutputView",
            "layout": "IPY_MODEL_dbc7026a19884edc93a650e465073ef9",
            "msg_id": "",
            "outputs": [
              {
                "output_type": "stream",
                "name": "stdout",
                "text": [
                  "analysing term: 'fife' in category: 'platform'\n"
                ]
              },
              {
                "output_type": "stream",
                "name": "stdout",
                "text": [
                  "\n",
                  "Analysis Results:\n",
                  "  Matching Term: fife\n",
                  "  Match Property: Preferred Label\n",
                  "  Match Type: ExactMatch\n",
                  "  Term Code: 76aaebd8-8563-40a8-bde6-84242d970d09\n",
                  "  Vocabulary: https://gcmd.earthdata.nasa.gov/kms/concepts/concept_scheme/projects\n",
                  "  Concept URI: https://gcmd.earthdata.nasa.gov/kms/concept/76aaebd8-8563-40a8-bde6-84242d970d09\n",
                  "--------------------\n",
                  "  Matching Term: fife\n",
                  "  Match Property: Preferred Label\n",
                  "  Match Type: ExactMatch\n",
                  "  Term Code: 3268\n",
                  "  Vocabulary: http://vocab.nerc.ac.uk/collection/C17/current/\n",
                  "  Concept URI: http://vocab.nerc.ac.uk/collection/C17/current/3268/\n",
                  "--------------------\n",
                  "  Matching Term: fife\n",
                  "  Match Property: Preferred Label\n",
                  "  Match Type: ExactMatch\n",
                  "  Term Code: 741U\n",
                  "  Vocabulary: http://vocab.nerc.ac.uk/collection/C17/current/\n",
                  "  Concept URI: http://vocab.nerc.ac.uk/collection/C17/current/741U/\n",
                  "--------------------\n"
                ]
              }
            ]
          }
        },
        "dbc7026a19884edc93a650e465073ef9": {
          "model_module": "@jupyter-widgets/base",
          "model_name": "LayoutModel",
          "model_module_version": "1.2.0",
          "state": {
            "_model_module": "@jupyter-widgets/base",
            "_model_module_version": "1.2.0",
            "_model_name": "LayoutModel",
            "_view_count": null,
            "_view_module": "@jupyter-widgets/base",
            "_view_module_version": "1.2.0",
            "_view_name": "LayoutView",
            "align_content": null,
            "align_items": null,
            "align_self": null,
            "border": null,
            "bottom": null,
            "display": null,
            "flex": null,
            "flex_flow": null,
            "grid_area": null,
            "grid_auto_columns": null,
            "grid_auto_flow": null,
            "grid_auto_rows": null,
            "grid_column": null,
            "grid_gap": null,
            "grid_row": null,
            "grid_template_areas": null,
            "grid_template_columns": null,
            "grid_template_rows": null,
            "height": null,
            "justify_content": null,
            "justify_items": null,
            "left": null,
            "margin": null,
            "max_height": null,
            "max_width": null,
            "min_height": null,
            "min_width": null,
            "object_fit": null,
            "object_position": null,
            "order": null,
            "overflow": null,
            "overflow_x": null,
            "overflow_y": null,
            "padding": null,
            "right": null,
            "top": null,
            "visibility": null,
            "width": null
          }
        }
      }
    }
  },
  "nbformat": 4,
  "nbformat_minor": 0
}