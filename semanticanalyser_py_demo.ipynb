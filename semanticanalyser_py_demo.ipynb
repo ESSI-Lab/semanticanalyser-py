{
  "nbformat": 4,
  "nbformat_minor": 0,
  "metadata": {
    "colab": {
      "provenance": []
    },
    "kernelspec": {
      "name": "python3",
      "display_name": "Python 3"
    },
    "language_info": {
      "name": "python"
    },
    "widgets": {
      "application/vnd.jupyter.widget-state+json": {
        "cc5bfcf4c98345519428365903ff89f6": {
          "model_module": "@jupyter-widgets/controls",
          "model_name": "TextModel",
          "model_module_version": "1.5.0",
          "state": {
            "_dom_classes": [],
            "_model_module": "@jupyter-widgets/controls",
            "_model_module_version": "1.5.0",
            "_model_name": "TextModel",
            "_view_count": null,
            "_view_module": "@jupyter-widgets/controls",
            "_view_module_version": "1.5.0",
            "_view_name": "TextView",
            "continuous_update": true,
            "description": "Enter Term:",
            "description_tooltip": null,
            "disabled": false,
            "layout": "IPY_MODEL_f6f3497ef875481482dd957d13401846",
            "placeholder": "Type here...",
            "style": "IPY_MODEL_a6f106b7c1a345c3bac06d3c11e8db7f",
            "value": "psal"
          }
        },
        "f6f3497ef875481482dd957d13401846": {
          "model_module": "@jupyter-widgets/base",
          "model_name": "LayoutModel",
          "model_module_version": "1.2.0",
          "state": {
            "_model_module": "@jupyter-widgets/base",
            "_model_module_version": "1.2.0",
            "_model_name": "LayoutModel",
            "_view_count": null,
            "_view_module": "@jupyter-widgets/base",
            "_view_module_version": "1.2.0",
            "_view_name": "LayoutView",
            "align_content": null,
            "align_items": null,
            "align_self": null,
            "border": null,
            "bottom": null,
            "display": null,
            "flex": null,
            "flex_flow": null,
            "grid_area": null,
            "grid_auto_columns": null,
            "grid_auto_flow": null,
            "grid_auto_rows": null,
            "grid_column": null,
            "grid_gap": null,
            "grid_row": null,
            "grid_template_areas": null,
            "grid_template_columns": null,
            "grid_template_rows": null,
            "height": null,
            "justify_content": null,
            "justify_items": null,
            "left": null,
            "margin": null,
            "max_height": null,
            "max_width": null,
            "min_height": null,
            "min_width": null,
            "object_fit": null,
            "object_position": null,
            "order": null,
            "overflow": null,
            "overflow_x": null,
            "overflow_y": null,
            "padding": null,
            "right": null,
            "top": null,
            "visibility": null,
            "width": null
          }
        },
        "a6f106b7c1a345c3bac06d3c11e8db7f": {
          "model_module": "@jupyter-widgets/controls",
          "model_name": "DescriptionStyleModel",
          "model_module_version": "1.5.0",
          "state": {
            "_model_module": "@jupyter-widgets/controls",
            "_model_module_version": "1.5.0",
            "_model_name": "DescriptionStyleModel",
            "_view_count": null,
            "_view_module": "@jupyter-widgets/base",
            "_view_module_version": "1.2.0",
            "_view_name": "StyleView",
            "description_width": ""
          }
        },
        "321b1821f8a449619096dc093474011c": {
          "model_module": "@jupyter-widgets/controls",
          "model_name": "DropdownModel",
          "model_module_version": "1.5.0",
          "state": {
            "_dom_classes": [],
            "_model_module": "@jupyter-widgets/controls",
            "_model_module_version": "1.5.0",
            "_model_name": "DropdownModel",
            "_options_labels": [
              "parameter",
              "instrument",
              "platform",
              "theme"
            ],
            "_view_count": null,
            "_view_module": "@jupyter-widgets/controls",
            "_view_module_version": "1.5.0",
            "_view_name": "DropdownView",
            "description": "Select Category:",
            "description_tooltip": null,
            "disabled": false,
            "index": 0,
            "layout": "IPY_MODEL_43922fc8f9c54de7bdfb5cb782b2a3d1",
            "style": "IPY_MODEL_0f9a1012f23a45918dfe86b776fe9d27"
          }
        },
        "43922fc8f9c54de7bdfb5cb782b2a3d1": {
          "model_module": "@jupyter-widgets/base",
          "model_name": "LayoutModel",
          "model_module_version": "1.2.0",
          "state": {
            "_model_module": "@jupyter-widgets/base",
            "_model_module_version": "1.2.0",
            "_model_name": "LayoutModel",
            "_view_count": null,
            "_view_module": "@jupyter-widgets/base",
            "_view_module_version": "1.2.0",
            "_view_name": "LayoutView",
            "align_content": null,
            "align_items": null,
            "align_self": null,
            "border": null,
            "bottom": null,
            "display": null,
            "flex": null,
            "flex_flow": null,
            "grid_area": null,
            "grid_auto_columns": null,
            "grid_auto_flow": null,
            "grid_auto_rows": null,
            "grid_column": null,
            "grid_gap": null,
            "grid_row": null,
            "grid_template_areas": null,
            "grid_template_columns": null,
            "grid_template_rows": null,
            "height": null,
            "justify_content": null,
            "justify_items": null,
            "left": null,
            "margin": null,
            "max_height": null,
            "max_width": null,
            "min_height": null,
            "min_width": null,
            "object_fit": null,
            "object_position": null,
            "order": null,
            "overflow": null,
            "overflow_x": null,
            "overflow_y": null,
            "padding": null,
            "right": null,
            "top": null,
            "visibility": null,
            "width": null
          }
        },
        "0f9a1012f23a45918dfe86b776fe9d27": {
          "model_module": "@jupyter-widgets/controls",
          "model_name": "DescriptionStyleModel",
          "model_module_version": "1.5.0",
          "state": {
            "_model_module": "@jupyter-widgets/controls",
            "_model_module_version": "1.5.0",
            "_model_name": "DescriptionStyleModel",
            "_view_count": null,
            "_view_module": "@jupyter-widgets/base",
            "_view_module_version": "1.2.0",
            "_view_name": "StyleView",
            "description_width": ""
          }
        },
        "511481a44e91464aa1c24bbf3ac04468": {
          "model_module": "@jupyter-widgets/controls",
          "model_name": "ButtonModel",
          "model_module_version": "1.5.0",
          "state": {
            "_dom_classes": [],
            "_model_module": "@jupyter-widgets/controls",
            "_model_module_version": "1.5.0",
            "_model_name": "ButtonModel",
            "_view_count": null,
            "_view_module": "@jupyter-widgets/controls",
            "_view_module_version": "1.5.0",
            "_view_name": "ButtonView",
            "button_style": "",
            "description": "Analyze",
            "disabled": false,
            "icon": "",
            "layout": "IPY_MODEL_74a60284af314df0a72973f12acaad45",
            "style": "IPY_MODEL_20800b67c2e24e35923a13d37d8502a1",
            "tooltip": ""
          }
        },
        "74a60284af314df0a72973f12acaad45": {
          "model_module": "@jupyter-widgets/base",
          "model_name": "LayoutModel",
          "model_module_version": "1.2.0",
          "state": {
            "_model_module": "@jupyter-widgets/base",
            "_model_module_version": "1.2.0",
            "_model_name": "LayoutModel",
            "_view_count": null,
            "_view_module": "@jupyter-widgets/base",
            "_view_module_version": "1.2.0",
            "_view_name": "LayoutView",
            "align_content": null,
            "align_items": null,
            "align_self": null,
            "border": null,
            "bottom": null,
            "display": null,
            "flex": null,
            "flex_flow": null,
            "grid_area": null,
            "grid_auto_columns": null,
            "grid_auto_flow": null,
            "grid_auto_rows": null,
            "grid_column": null,
            "grid_gap": null,
            "grid_row": null,
            "grid_template_areas": null,
            "grid_template_columns": null,
            "grid_template_rows": null,
            "height": null,
            "justify_content": null,
            "justify_items": null,
            "left": null,
            "margin": null,
            "max_height": null,
            "max_width": null,
            "min_height": null,
            "min_width": null,
            "object_fit": null,
            "object_position": null,
            "order": null,
            "overflow": null,
            "overflow_x": null,
            "overflow_y": null,
            "padding": null,
            "right": null,
            "top": null,
            "visibility": null,
            "width": null
          }
        },
        "20800b67c2e24e35923a13d37d8502a1": {
          "model_module": "@jupyter-widgets/controls",
          "model_name": "ButtonStyleModel",
          "model_module_version": "1.5.0",
          "state": {
            "_model_module": "@jupyter-widgets/controls",
            "_model_module_version": "1.5.0",
            "_model_name": "ButtonStyleModel",
            "_view_count": null,
            "_view_module": "@jupyter-widgets/base",
            "_view_module_version": "1.2.0",
            "_view_name": "StyleView",
            "button_color": null,
            "font_weight": ""
          }
        },
        "55785628016e4b2fab4bdae2df5d2aba": {
          "model_module": "@jupyter-widgets/output",
          "model_name": "OutputModel",
          "model_module_version": "1.0.0",
          "state": {
            "_dom_classes": [],
            "_model_module": "@jupyter-widgets/output",
            "_model_module_version": "1.0.0",
            "_model_name": "OutputModel",
            "_view_count": null,
            "_view_module": "@jupyter-widgets/output",
            "_view_module_version": "1.0.0",
            "_view_name": "OutputView",
            "layout": "IPY_MODEL_7ae5e8c1094e494a94ffde7699f0cb5c",
            "msg_id": "",
            "outputs": [
              {
                "output_type": "stream",
                "name": "stdout",
                "text": [
                  "Analyzing term: 'psal' in category: 'parameter'\n"
                ]
              },
              {
                "output_type": "stream",
                "name": "stdout",
                "text": [
                  "\n",
                  "Analysis Results:\n",
                  "  Matching Term: psal\n",
                  "  Match Property: Alternate Label\n",
                  "  Match Type: ExactMatch\n",
                  "  Term Code: PSAL\n",
                  "  Vocabulary: http://vocab.nerc.ac.uk/collection/P09/current/\n",
                  "  Concept URI: http://vocab.nerc.ac.uk/collection/P09/current/PSAL/\n",
                  "--------------------\n",
                  "  Matching Term: psal\n",
                  "  Match Property: Alternate Label\n",
                  "  Match Type: ExactMatch\n",
                  "  Term Code: PSAL\n",
                  "  Vocabulary: http://vocab.nerc.ac.uk/collection/R03/current/\n",
                  "  Concept URI: http://vocab.nerc.ac.uk/collection/R03/current/PSAL/\n",
                  "--------------------\n"
                ]
              }
            ]
          }
        },
        "7ae5e8c1094e494a94ffde7699f0cb5c": {
          "model_module": "@jupyter-widgets/base",
          "model_name": "LayoutModel",
          "model_module_version": "1.2.0",
          "state": {
            "_model_module": "@jupyter-widgets/base",
            "_model_module_version": "1.2.0",
            "_model_name": "LayoutModel",
            "_view_count": null,
            "_view_module": "@jupyter-widgets/base",
            "_view_module_version": "1.2.0",
            "_view_name": "LayoutView",
            "align_content": null,
            "align_items": null,
            "align_self": null,
            "border": null,
            "bottom": null,
            "display": null,
            "flex": null,
            "flex_flow": null,
            "grid_area": null,
            "grid_auto_columns": null,
            "grid_auto_flow": null,
            "grid_auto_rows": null,
            "grid_column": null,
            "grid_gap": null,
            "grid_row": null,
            "grid_template_areas": null,
            "grid_template_columns": null,
            "grid_template_rows": null,
            "height": null,
            "justify_content": null,
            "justify_items": null,
            "left": null,
            "margin": null,
            "max_height": null,
            "max_width": null,
            "min_height": null,
            "min_width": null,
            "object_fit": null,
            "object_position": null,
            "order": null,
            "overflow": null,
            "overflow_x": null,
            "overflow_y": null,
            "padding": null,
            "right": null,
            "top": null,
            "visibility": null,
            "width": null
          }
        }
      }
    }
  },
  "cells": [
    {
      "cell_type": "markdown",
      "source": [
        "# **semantic**"
      ],
      "metadata": {
        "id": "UJh_I5EYQJ8_"
      }
    },
    {
      "cell_type": "code",
      "source": [
        "!pip install --upgrade semanticanalyser-py\n",
        "!pip show semanticanalyser-py"
      ],
      "metadata": {
        "colab": {
          "base_uri": "https://localhost:8080/"
        },
        "id": "apXLdIWVAAjA",
        "outputId": "ad462d58-9061-4e91-a4a1-40c50134cd4d"
      },
      "execution_count": 1,
      "outputs": [
        {
          "output_type": "stream",
          "name": "stdout",
          "text": [
            "Collecting semanticanalyser-py\n",
            "  Downloading semanticanalyser_py-0.1.4-py3-none-any.whl.metadata (4.2 kB)\n",
            "Requirement already satisfied: requests>=2.25.0 in /usr/local/lib/python3.12/dist-packages (from semanticanalyser-py) (2.32.4)\n",
            "Requirement already satisfied: charset_normalizer<4,>=2 in /usr/local/lib/python3.12/dist-packages (from requests>=2.25.0->semanticanalyser-py) (3.4.3)\n",
            "Requirement already satisfied: idna<4,>=2.5 in /usr/local/lib/python3.12/dist-packages (from requests>=2.25.0->semanticanalyser-py) (3.10)\n",
            "Requirement already satisfied: urllib3<3,>=1.21.1 in /usr/local/lib/python3.12/dist-packages (from requests>=2.25.0->semanticanalyser-py) (2.5.0)\n",
            "Requirement already satisfied: certifi>=2017.4.17 in /usr/local/lib/python3.12/dist-packages (from requests>=2.25.0->semanticanalyser-py) (2025.8.3)\n",
            "Downloading semanticanalyser_py-0.1.4-py3-none-any.whl (16 kB)\n",
            "Installing collected packages: semanticanalyser-py\n",
            "Successfully installed semanticanalyser-py-0.1.4\n",
            "Name: semanticanalyser-py\n",
            "Version: 0.1.4\n",
            "Summary: A Python binding for the Semantic Analyser service maintained by BODC\n",
            "Home-page: https://github.com/ESSI-Lab/semanticanalyser-py\n",
            "Author: Ahmad Mahmoud (CNR internship)\n",
            "Author-email: ahmad.mahmoud@edu.unifi.it\n",
            "License: GPL-3.0\n",
            "Location: /usr/local/lib/python3.12/dist-packages\n",
            "Requires: requests\n",
            "Required-by: \n"
          ]
        }
      ]
    },
    {
      "cell_type": "code",
      "source": [
        "from semanticanalyser.analyser import *\n",
        "from ipywidgets import Dropdown, Button, VBox, Output, Text\n",
        "\n",
        "analyzer = SemanticAnalyzer()\n",
        "match_types = analyzer.getMatchTypes()\n",
        "match_properties = analyzer.getMatchProperties()\n",
        "match_categories = analyzer.get_categories()\n",
        "\n",
        "categories_list = [category['name'] for category in match_categories]\n",
        "\n",
        "term_input = Text(\n",
        "    description='Enter Term:',\n",
        "    placeholder='Type here...'\n",
        ")\n",
        "\n",
        "category_dropdown = Dropdown(\n",
        "    options=categories_list,\n",
        "    description='Select Category:',\n",
        ")\n",
        "\n",
        "analyze_button = Button(description=\"Analyze\")\n",
        "\n",
        "\n",
        "output_widget = Output()\n",
        "\n",
        "def display_vocabularies(category):\n",
        "  \"\"\"Retrieves and displays vocabularies for a given category.\"\"\"\n",
        "  print(f\"Fetching vocabularies for category: {category}\")\n",
        "  vocabularies = analyzer.get_vocabularies(category)\n",
        "  if vocabularies:\n",
        "    print(\"Vocabularies:\")\n",
        "    for vocab in vocabularies:\n",
        "      print(vocab)\n",
        "  else:\n",
        "    print(f\"No vocabularies found for category: {category}\")\n",
        "\n",
        "def analyze_term_with_category(term, category):\n",
        "    \"\"\"Analyzes a single term using the selected category's vocabularies and displays results.\"\"\"\n",
        "    print(f\"Analyzing term: '{term}' in category: '{category}'\")\n",
        "    analysis_results = analyzer.analyzeTerms([term], match_types, match_properties)\n",
        "\n",
        "    if analysis_results:\n",
        "        print(\"\\nAnalysis Results:\")\n",
        "        matches = analysis_results.get_matches()\n",
        "        if matches:\n",
        "            for match in matches:\n",
        "                print(f\"  Matching Term: {match.getMatchingTerm()}\")\n",
        "                print(f\"  Match Property: {match.getMatchProperty()}\")\n",
        "                print(f\"  Match Type: {match.getMatchType()}\")\n",
        "                print(f\"  Term Code: {match.getTermCode()}\")\n",
        "                print(f\"  Vocabulary: {match.getVocabulary()}\")\n",
        "                print(f\"  Concept URI: {match.getConceptURI()}\")\n",
        "                print(\"-\" * 20)\n",
        "        else:\n",
        "            print(\"  No matches found for the given term and category.\")\n",
        "    else:\n",
        "        print(\"Analysis failed.\")\n",
        "\n",
        "\n",
        "def on_button_click(b):\n",
        "    \"\"\"Handles button click event to analyze term.\"\"\"\n",
        "    with output_widget:\n",
        "        output_widget.clear_output()\n",
        "        analyze_term_with_category(term_input.value, category_dropdown.value)\n",
        "\n",
        "\n",
        "analyze_button.on_click(on_button_click)\n",
        "\n",
        "display(term_input)\n",
        "display(category_dropdown)\n",
        "display(analyze_button)\n",
        "display(output_widget)"
      ],
      "metadata": {
        "colab": {
          "base_uri": "https://localhost:8080/",
          "height": 418,
          "referenced_widgets": [
            "cc5bfcf4c98345519428365903ff89f6",
            "f6f3497ef875481482dd957d13401846",
            "a6f106b7c1a345c3bac06d3c11e8db7f",
            "321b1821f8a449619096dc093474011c",
            "43922fc8f9c54de7bdfb5cb782b2a3d1",
            "0f9a1012f23a45918dfe86b776fe9d27",
            "511481a44e91464aa1c24bbf3ac04468",
            "74a60284af314df0a72973f12acaad45",
            "20800b67c2e24e35923a13d37d8502a1",
            "55785628016e4b2fab4bdae2df5d2aba",
            "7ae5e8c1094e494a94ffde7699f0cb5c"
          ]
        },
        "id": "2N8B87uUcoNQ",
        "outputId": "181a7c16-1394-4bce-876d-57827904c873"
      },
      "execution_count": 2,
      "outputs": [
        {
          "output_type": "display_data",
          "data": {
            "text/plain": [
              "Text(value='', description='Enter Term:', placeholder='Type here...')"
            ],
            "application/vnd.jupyter.widget-view+json": {
              "version_major": 2,
              "version_minor": 0,
              "model_id": "cc5bfcf4c98345519428365903ff89f6"
            }
          },
          "metadata": {}
        },
        {
          "output_type": "display_data",
          "data": {
            "text/plain": [
              "Dropdown(description='Select Category:', options=('parameter', 'instrument', 'platform', 'theme'), value='para…"
            ],
            "application/vnd.jupyter.widget-view+json": {
              "version_major": 2,
              "version_minor": 0,
              "model_id": "321b1821f8a449619096dc093474011c"
            }
          },
          "metadata": {}
        },
        {
          "output_type": "display_data",
          "data": {
            "text/plain": [
              "Button(description='Analyze', style=ButtonStyle())"
            ],
            "application/vnd.jupyter.widget-view+json": {
              "version_major": 2,
              "version_minor": 0,
              "model_id": "511481a44e91464aa1c24bbf3ac04468"
            }
          },
          "metadata": {}
        },
        {
          "output_type": "display_data",
          "data": {
            "text/plain": [
              "Output()"
            ],
            "application/vnd.jupyter.widget-view+json": {
              "version_major": 2,
              "version_minor": 0,
              "model_id": "55785628016e4b2fab4bdae2df5d2aba"
            }
          },
          "metadata": {}
        }
      ]
    }
  ]
}