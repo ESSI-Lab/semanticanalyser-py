{
 "cells": [
  {
   "cell_type": "markdown",
   "metadata": {
    "id": "UJh_I5EYQJ8_"
   },
   "source": [
    "# **semantic**"
   ]
  },
  {
   "cell_type": "code",
   "execution_count": null,
   "metadata": {
    "colab": {
     "base_uri": "https://localhost:8080/"
    },
    "id": "apXLdIWVAAjA",
    "outputId": "ad462d58-9061-4e91-a4a1-40c50134cd4d"
   },
   "outputs": [],
   "source": [
    "!pip install --upgrade semanticanalyser-py\n",
    "!pip show semanticanalyser-py"
   ]
  },
  {
   "cell_type": "code",
   "execution_count": null,
   "metadata": {
    "colab": {
     "base_uri": "https://localhost:8080/",
     "height": 418,
     "referenced_widgets": [
      "cc5bfcf4c98345519428365903ff89f6",
      "f6f3497ef875481482dd957d13401846",
      "a6f106b7c1a345c3bac06d3c11e8db7f",
      "321b1821f8a449619096dc093474011c",
      "43922fc8f9c54de7bdfb5cb782b2a3d1",
      "0f9a1012f23a45918dfe86b776fe9d27",
      "511481a44e91464aa1c24bbf3ac04468",
      "74a60284af314df0a72973f12acaad45",
      "20800b67c2e24e35923a13d37d8502a1",
      "55785628016e4b2fab4bdae2df5d2aba",
      "7ae5e8c1094e494a94ffde7699f0cb5c"
     ]
    },
    "id": "2N8B87uUcoNQ",
    "outputId": "181a7c16-1394-4bce-876d-57827904c873"
   },
   "outputs": [],
   "source": [
    "from semanticanalyser.analyser import *\n",
    "from ipywidgets import Dropdown, Button, VBox, Output, Text\n",
    "\n",
    "analyzer = SemanticAnalyzer()\n",
    "match_types = analyzer.getMatchTypes()\n",
    "match_properties = analyzer.getMatchProperties()\n",
    "match_categories = analyzer.get_categories()\n",
    "\n",
    "categories_list = [category['name'] for category in match_categories]\n",
    "\n",
    "term_input = Text(\n",
    "    description='Enter Term:',\n",
    "    placeholder='Type here...'\n",
    ")\n",
    "\n",
    "category_dropdown = Dropdown(\n",
    "    options=categories_list,\n",
    "    description='Select Category:',\n",
    ")\n",
    "\n",
    "analyze_button = Button(description=\"Analyze\")\n",
    "\n",
    "\n",
    "output_widget = Output()\n",
    "\n",
    "def display_vocabularies(category):\n",
    "  \"\"\"Retrieves and displays vocabularies for a given category.\"\"\"\n",
    "  print(f\"Fetching vocabularies for category: {category}\")\n",
    "  vocabularies = analyzer.get_vocabularies(category)\n",
    "  if vocabularies:\n",
    "    print(\"Vocabularies:\")\n",
    "    for vocab in vocabularies:\n",
    "      print(vocab)\n",
    "  else:\n",
    "    print(f\"No vocabularies found for category: {category}\")\n",
    "\n",
    "def analyze_term_with_category(term, category):\n",
    "    \"\"\"Analyzes a single term using the selected category's vocabularies and displays results.\"\"\"\n",
    "    print(f\"Analyzing term: '{term}' in category: '{category}'\")\n",
    "    analysis_results = analyzer.analyzeTerms([term], match_types, match_properties)\n",
    "\n",
    "    if analysis_results:\n",
    "        print(\"\\nAnalysis Results:\")\n",
    "        matches = analysis_results.get_matches()\n",
    "        if matches:\n",
    "            for match in matches:\n",
    "                print(f\"  Matching Term: {match.getMatchingTerm()}\")\n",
    "                print(f\"  Match Property: {match.getMatchProperty()}\")\n",
    "                print(f\"  Match Type: {match.getMatchType()}\")\n",
    "                print(f\"  Term Code: {match.getTermCode()}\")\n",
    "                print(f\"  Vocabulary: {match.getVocabulary()}\")\n",
    "                print(f\"  Concept URI: {match.getConceptURI()}\")\n",
    "                print(\"-\" * 20)\n",
    "        else:\n",
    "            print(\"  No matches found for the given term and category.\")\n",
    "    else:\n",
    "        print(\"Analysis failed.\")\n",
    "\n",
    "\n",
    "def on_button_click(b):\n",
    "    \"\"\"Handles button click event to analyze term.\"\"\"\n",
    "    with output_widget:\n",
    "        output_widget.clear_output()\n",
    "        analyze_term_with_category(term_input.value, category_dropdown.value)\n",
    "\n",
    "\n",
    "analyze_button.on_click(on_button_click)\n",
    "\n",
    "display(term_input)\n",
    "display(category_dropdown)\n",
    "display(analyze_button)\n",
    "display(output_widget)"
   ]
  }
 ],
 "metadata": {
  "colab": {
   "provenance": []
  },
  "kernelspec": {
   "display_name": "Python 3",
   "name": "python3"
  },
  "language_info": {
   "name": "python"
  }
 },
 "nbformat": 4,
 "nbformat_minor": 0
}
